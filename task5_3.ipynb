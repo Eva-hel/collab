{
  "nbformat": 4,
  "nbformat_minor": 0,
  "metadata": {
    "colab": {
      "provenance": [],
      "authorship_tag": "ABX9TyMhm17hrBK7JXqjfXeRdqyC",
      "include_colab_link": true
    },
    "kernelspec": {
      "name": "python3",
      "display_name": "Python 3"
    },
    "language_info": {
      "name": "python"
    }
  },
  "cells": [
    {
      "cell_type": "markdown",
      "metadata": {
        "id": "view-in-github",
        "colab_type": "text"
      },
      "source": [
        "<a href=\"https://colab.research.google.com/github/Eva-hel/collab/blob/main/task5_3.ipynb\" target=\"_parent\"><img src=\"https://colab.research.google.com/assets/colab-badge.svg\" alt=\"Open In Colab\"/></a>"
      ]
    },
    {
      "cell_type": "code",
      "source": [
        "from time import sleep\n",
        "def timer(t):\n",
        "    sleep(t)\n",
        "    return f\"Время истекло! {t} секунд прошло.\"\n",
        "\n",
        "\n"
      ],
      "metadata": {
        "id": "9lL7kHKwob3o"
      },
      "execution_count": null,
      "outputs": []
    }
  ]
}